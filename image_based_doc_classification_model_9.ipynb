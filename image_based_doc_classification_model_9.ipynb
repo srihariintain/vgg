{
  "nbformat": 4,
  "nbformat_minor": 0,
  "metadata": {
    "colab": {
      "name": "image based doc classification model-9.ipynb",
      "provenance": [],
      "collapsed_sections": []
    },
    "kernelspec": {
      "display_name": "Python 3",
      "name": "python3"
    },
    "accelerator": "GPU"
  },
  "cells": [
    {
      "cell_type": "code",
      "metadata": {
        "id": "kyYoIVAa24Am"
      },
      "source": [
        "import os\n",
        "import cv2\n",
        "import pandas as pd\n",
        "import numpy as np\n",
        "\n",
        "from keras.layers import Dense,Flatten,MaxPooling2D,Convolution2D,Dropout,GlobalAveragePooling2D\n",
        "from keras.models import Sequential\n",
        "from keras.optimizers import Adam\n",
        "from keras.callbacks import EarlyStopping\n",
        "\n",
        "from numpy import expand_dims\n",
        "from keras.preprocessing.image import ImageDataGenerator\n",
        "\n",
        "\n",
        "\n",
        "import matplotlib.pyplot as plt\n",
        "import seaborn as sns\n",
        "\n",
        "from sklearn.model_selection import train_test_split\n",
        "from sklearn.preprocessing import LabelEncoder\n",
        "from sklearn.metrics import recall_score, precision_score"
      ],
      "execution_count": 68,
      "outputs": []
    },
    {
      "cell_type": "code",
      "metadata": {
        "colab": {
          "base_uri": "https://localhost:8080/"
        },
        "id": "_7QbJ5JW3DRH",
        "outputId": "ef1b3946-e8c5-467c-9c0c-27d37f07dea5"
      },
      "source": [
        "from google.colab import drive\n",
        "drive.mount('/content/drive')"
      ],
      "execution_count": 69,
      "outputs": [
        {
          "output_type": "stream",
          "text": [
            "Drive already mounted at /content/drive; to attempt to forcibly remount, call drive.mount(\"/content/drive\", force_remount=True).\n"
          ],
          "name": "stdout"
        }
      ]
    },
    {
      "cell_type": "code",
      "metadata": {
        "id": "bWe990oaae-m"
      },
      "source": [
        "Class_names = []\n",
        "mypath = '/content/drive/My Drive/Dataset_for_train'\n",
        "for (dirpath, dirnames, filenames) in os.walk(mypath):\n",
        "    Class_names.extend(dirnames)\n",
        "    break"
      ],
      "execution_count": 70,
      "outputs": []
    },
    {
      "cell_type": "code",
      "metadata": {
        "colab": {
          "base_uri": "https://localhost:8080/"
        },
        "id": "aG6gWdBsZq7-",
        "outputId": "d670ad1a-ab62-44c1-926a-222f4c137332"
      },
      "source": [
        "Class_names"
      ],
      "execution_count": 71,
      "outputs": [
        {
          "output_type": "execute_result",
          "data": {
            "text/plain": [
              "['Aadhaar_front',\n",
              " 'Aadhaar_back',\n",
              " 'driving_license_front',\n",
              " 'driving_license_back',\n",
              " 'passport_front',\n",
              " 'passport_back',\n",
              " 'Voter_id_back',\n",
              " 'Voter_id_front',\n",
              " 'Pan',\n",
              " 'train',\n",
              " 'val',\n",
              " 'API response',\n",
              " 'Pan1',\n",
              " 'Pan2',\n",
              " 'Pan3']"
            ]
          },
          "metadata": {
            "tags": []
          },
          "execution_count": 71
        }
      ]
    },
    {
      "cell_type": "code",
      "metadata": {
        "id": "DBypEEr-33Ql"
      },
      "source": [
        "from os import walk\n",
        "directory='/content/drive/My Drive/Dataset_for_train'\n",
        "categories=['Voter_id_back','Voter_id_front','Pan','Aadhaar_front','driving_license_front','passport_front','Aadhaar_back','passport_back','driving_license_back']\n",
        "X = []\n",
        "Y = []\n",
        "Count=[]\n",
        "for category in categories:\n",
        "  path = os.path.join(directory,category)\n",
        "  count= 0\n",
        "  for img in os.listdir(path):\n",
        "    count+=1\n",
        "  Count.append(count)"
      ],
      "execution_count": 72,
      "outputs": []
    },
    {
      "cell_type": "code",
      "metadata": {
        "id": "abk6jy_X4Bdq"
      },
      "source": [
        "temp=[]\n",
        "for i in (Count):\n",
        "  temp.append(1500//i)"
      ],
      "execution_count": 73,
      "outputs": []
    },
    {
      "cell_type": "code",
      "metadata": {
        "id": "2qntgYDS4Jww"
      },
      "source": [
        "import os\n",
        "from os import walk\n",
        "directory='/content/drive/My Drive/Dataset_for_train'\n",
        "categories=['Voter_id_back','Voter_id_front','Pan','Aadhaar_front','driving_license_front','passport_front','Aadhaar_back','passport_back','driving_license_back']\n",
        "\n",
        "X_test = []\n",
        "y_test = []\n",
        "X = []\n",
        "Y = []\n",
        "i = -1\n",
        "j=0\n",
        "df = pd.DataFrame()\n",
        "for category in categories:\n",
        "  path = os.path.join(directory,category)\n",
        "  i+=1\n",
        "  for img in os.listdir(path):\n",
        "    try:\n",
        "      j+=1\n",
        "      image = (cv2.imread(os.path.join(path,img), cv2.IMREAD_GRAYSCALE))\n",
        "      image = cv2.resize(image,(224,224))                     \n",
        "      image = cv2.cvtColor(image, cv2.COLOR_BGR2RGB)\n",
        "      if j%5==0:\n",
        "        X_test.append(image)\n",
        "        y_test.append(category)\n",
        "      else:\n",
        "        X.append(image)\n",
        "        Y.append(category)\n",
        "        sample_image = expand_dims(image, 0)\n",
        "        datagenertor = ImageDataGenerator(brightness_range=[0.1,1.0],height_shift_range=0.5,rotation_range=40,zoom_range=0.2)\n",
        "        iterator = datagenertor.flow(sample_image, batch_size=1)\n",
        "        for k in range(temp[i]):\n",
        "          batch = iterator.next()\n",
        "          image = batch[0].astype('uint8')\n",
        "          X.append(cv2.resize(image,(224,224)))\n",
        "          Y.append(category)  \n",
        "    except:\n",
        "      continue"
      ],
      "execution_count": 74,
      "outputs": []
    },
    {
      "cell_type": "code",
      "metadata": {
        "colab": {
          "base_uri": "https://localhost:8080/",
          "height": 354
        },
        "id": "kGPwH8T-WNgh",
        "outputId": "617a49e8-39d9-4949-bc71-03cc754b0d6c"
      },
      "source": [
        "sns.countplot(y_test)\n",
        "plt.title(\"Distribution of the classes\")"
      ],
      "execution_count": 75,
      "outputs": [
        {
          "output_type": "stream",
          "text": [
            "/usr/local/lib/python3.6/dist-packages/seaborn/_decorators.py:43: FutureWarning: Pass the following variable as a keyword arg: x. From version 0.12, the only valid positional argument will be `data`, and passing other arguments without an explicit keyword will result in an error or misinterpretation.\n",
            "  FutureWarning\n"
          ],
          "name": "stderr"
        },
        {
          "output_type": "execute_result",
          "data": {
            "text/plain": [
              "Text(0.5, 1.0, 'Distribution of the classes')"
            ]
          },
          "metadata": {
            "tags": []
          },
          "execution_count": 75
        },
        {
          "output_type": "display_data",
          "data": {
            "image/png": "[encoded data removed]",
            "text/plain": [
              "<Figure size 432x288 with 1 Axes>"
            ]
          },
          "metadata": {
            "tags": [],
            "needs_background": "light"
          }
        }
      ]
    },
    {
      "cell_type": "code",
      "metadata": {
        "colab": {
          "base_uri": "https://localhost:8080/"
        },
        "id": "1ojwcnUteWkt",
        "outputId": "b31b61b8-026c-476b-ce41-4fc2356d1a37"
      },
      "source": [
        "print(\"Total number of Records\",len(Y))\n",
        "for i in categories:\n",
        "  print(\"Total number of\",i,\" \",Y.count(i))"
      ],
      "execution_count": 76,
      "outputs": [
        {
          "output_type": "stream",
          "text": [
            "Total number of Records 11211\n",
            "Total number of Voter_id_back   1248\n",
            "Total number of Voter_id_front   1224\n",
            "Total number of Pan   1280\n",
            "Total number of Aadhaar_front   1280\n",
            "Total number of driving_license_front   1256\n",
            "Total number of passport_front   1200\n",
            "Total number of Aadhaar_back   1248\n",
            "Total number of passport_back   1242\n",
            "Total number of driving_license_back   1233\n"
          ],
          "name": "stdout"
        }
      ]
    },
    {
      "cell_type": "code",
      "metadata": {
        "colab": {
          "base_uri": "https://localhost:8080/",
          "height": 354
        },
        "id": "-vnJzwYveNiA",
        "outputId": "d6d5794a-471a-4b85-c3cb-c631f2424c95"
      },
      "source": [
        "sns.countplot(Y)\n",
        "plt.title(\"Distribution of the classes\")"
      ],
      "execution_count": 77,
      "outputs": [
        {
          "output_type": "stream",
          "text": [
            "/usr/local/lib/python3.6/dist-packages/seaborn/_decorators.py:43: FutureWarning: Pass the following variable as a keyword arg: x. From version 0.12, the only valid positional argument will be `data`, and passing other arguments without an explicit keyword will result in an error or misinterpretation.\n",
            "  FutureWarning\n"
          ],
          "name": "stderr"
        },
        {
          "output_type": "execute_result",
          "data": {
            "text/plain": [
              "Text(0.5, 1.0, 'Distribution of the classes')"
            ]
          },
          "metadata": {
            "tags": []
          },
          "execution_count": 77
        },
        {
          "output_type": "display_data",
          "data": {
            "image/png": "[encoded data removed]",
            "text/plain": [
              "<Figure size 432x288 with 1 Axes>"
            ]
          },
          "metadata": {
            "tags": [],
            "needs_background": "light"
          }
        }
      ]
    },
    {
      "cell_type": "code",
      "metadata": {
        "id": "oi14lTfWeRBR"
      },
      "source": [
        "from keras.utils import np_utils\n",
        "import pickle\n",
        "X = np.array(X)\n",
        "le_ = LabelEncoder()\n",
        "Y = (le_.fit_transform(Y))\n",
        "\n",
        "output = open('encoder.pkl', 'wb')\n",
        "pickle.dump(le_, output)\n",
        "output.close()\n",
        "\n",
        "Y= np_utils.to_categorical(Y)"
      ],
      "execution_count": 78,
      "outputs": []
    },
    {
      "cell_type": "code",
      "metadata": {
        "id": "u9am5fmsY9Ls"
      },
      "source": [
        "from keras.utils import np_utils\n",
        "X_test = np.array(X_test)\n",
        "le_ = LabelEncoder()\n",
        "y_test = (le_.fit_transform(y_test))\n",
        "y_test= np_utils.to_categorical(y_test)"
      ],
      "execution_count": 79,
      "outputs": []
    },
    {
      "cell_type": "code",
      "metadata": {
        "id": "wguz_fIqevc4"
      },
      "source": [
        "from keras.applications.vgg16  import VGG16\n",
        "from keras.models import Sequential, load_model, Model\n",
        "\n",
        "img_height,img_width = 224,224          ## default input size\n",
        "num_classes = 9                     ## Total Classes\n",
        "\n",
        "base_model = VGG16(weights='imagenet', include_top=False, input_shape= (img_height,img_width,3))\n",
        "\n",
        "## Final dense layers\n",
        "x = base_model.output           ## getting features\n",
        "x = GlobalAveragePooling2D()(x) ## Average Pooling\n",
        "x = Dropout(0.3)(x)             ## Dropout\n",
        "\n",
        "## Final softmax layer\n",
        "predictions = Dense(num_classes, activation= 'softmax')(x)  \n",
        "model = Model(inputs = base_model.input, outputs = predictions)\n",
        "\n",
        "# compiling the model\n",
        "adam = Adam(lr=1e-5, decay=1e-6)\n",
        "model.compile(adam, 'categorical_crossentropy', metrics=['accuracy'])"
      ],
      "execution_count": 80,
      "outputs": []
    },
    {
      "cell_type": "code",
      "metadata": {
        "colab": {
          "base_uri": "https://localhost:8080/"
        },
        "id": "buvQj2z_le39",
        "outputId": "2e030086-b69f-4667-da80-41de5340b82f"
      },
      "source": [
        "model.summary()"
      ],
      "execution_count": 81,
      "outputs": [
        {
          "output_type": "stream",
          "text": [
            "Model: \"functional_5\"\n",
            "_________________________________________________________________\n",
            "Layer (type)                 Output Shape              Param #   \n",
            "=================================================================\n",
            "input_3 (InputLayer)         [(None, 224, 224, 3)]     0         \n",
            "_________________________________________________________________\n",
            "block1_conv1 (Conv2D)        (None, 224, 224, 64)      1792      \n",
            "_________________________________________________________________\n",
            "block1_conv2 (Conv2D)        (None, 224, 224, 64)      36928     \n",
            "_________________________________________________________________\n",
            "block1_pool (MaxPooling2D)   (None, 112, 112, 64)      0         \n",
            "_________________________________________________________________\n",
            "block2_conv1 (Conv2D)        (None, 112, 112, 128)     73856     \n",
            "_________________________________________________________________\n",
            "block2_conv2 (Conv2D)        (None, 112, 112, 128)     147584    \n",
            "_________________________________________________________________\n",
            "block2_pool (MaxPooling2D)   (None, 56, 56, 128)       0         \n",
            "_________________________________________________________________\n",
            "block3_conv1 (Conv2D)        (None, 56, 56, 256)       295168    \n",
            "_________________________________________________________________\n",
            "block3_conv2 (Conv2D)        (None, 56, 56, 256)       590080    \n",
            "_________________________________________________________________\n",
            "block3_conv3 (Conv2D)        (None, 56, 56, 256)       590080    \n",
            "_________________________________________________________________\n",
            "block3_pool (MaxPooling2D)   (None, 28, 28, 256)       0         \n",
            "_________________________________________________________________\n",
            "block4_conv1 (Conv2D)        (None, 28, 28, 512)       1180160   \n",
            "_________________________________________________________________\n",
            "block4_conv2 (Conv2D)        (None, 28, 28, 512)       2359808   \n",
            "_________________________________________________________________\n",
            "block4_conv3 (Conv2D)        (None, 28, 28, 512)       2359808   \n",
            "_________________________________________________________________\n",
            "block4_pool (MaxPooling2D)   (None, 14, 14, 512)       0         \n",
            "_________________________________________________________________\n",
            "block5_conv1 (Conv2D)        (None, 14, 14, 512)       2359808   \n",
            "_________________________________________________________________\n",
            "block5_conv2 (Conv2D)        (None, 14, 14, 512)       2359808   \n",
            "_________________________________________________________________\n",
            "block5_conv3 (Conv2D)        (None, 14, 14, 512)       2359808   \n",
            "_________________________________________________________________\n",
            "block5_pool (MaxPooling2D)   (None, 7, 7, 512)         0         \n",
            "_________________________________________________________________\n",
            "global_average_pooling2d_2 ( (None, 512)               0         \n",
            "_________________________________________________________________\n",
            "dropout_2 (Dropout)          (None, 512)               0         \n",
            "_________________________________________________________________\n",
            "dense_2 (Dense)              (None, 9)                 4617      \n",
            "=================================================================\n",
            "Total params: 14,719,305\n",
            "Trainable params: 14,719,305\n",
            "Non-trainable params: 0\n",
            "_________________________________________________________________\n"
          ],
          "name": "stdout"
        }
      ]
    },
    {
      "cell_type": "code",
      "metadata": {
        "id": "4YU5o9Gklij7"
      },
      "source": [
        "X_train, X_val, y_train, y_val = train_test_split(X,Y,stratify=Y,test_size=0.3)"
      ],
      "execution_count": 82,
      "outputs": []
    },
    {
      "cell_type": "code",
      "metadata": {
        "id": "mqSJAHA_ll6T"
      },
      "source": [
        "early_stopping = EarlyStopping(patience=5, verbose=1,restore_best_weights=True)"
      ],
      "execution_count": 83,
      "outputs": []
    },
    {
      "cell_type": "code",
      "metadata": {
        "id": "whxoyTlPlpkD",
        "colab": {
          "base_uri": "https://localhost:8080/"
        },
        "outputId": "f5b0cd33-3f1b-4b20-8acd-418fa0507a09"
      },
      "source": [
        "history = model.fit(X_train, y_train,batch_size=40,epochs=50, callbacks=[early_stopping], validation_data=(X_val,y_val))"
      ],
      "execution_count": 84,
      "outputs": [
        {
          "output_type": "stream",
          "text": [
            "Epoch 1/50\n",
            "  2/197 [..............................] - ETA: 49s - loss: 4.8920 - accuracy: 0.1125WARNING:tensorflow:Callbacks method `on_train_batch_end` is slow compared to the batch time (batch time: 0.1536s vs `on_train_batch_end` time: 0.3557s). Check your callbacks.\n",
            "197/197 [==============================] - 118s 597ms/step - loss: 1.6333 - accuracy: 0.4483 - val_loss: 0.5219 - val_accuracy: 0.8737\n",
            "Epoch 2/50\n",
            "197/197 [==============================] - 116s 591ms/step - loss: 0.4120 - accuracy: 0.8824 - val_loss: 0.1851 - val_accuracy: 0.9560\n",
            "Epoch 3/50\n",
            "197/197 [==============================] - 116s 591ms/step - loss: 0.1946 - accuracy: 0.9479 - val_loss: 0.1191 - val_accuracy: 0.9721\n",
            "Epoch 4/50\n",
            "197/197 [==============================] - 116s 591ms/step - loss: 0.1131 - accuracy: 0.9698 - val_loss: 0.0686 - val_accuracy: 0.9813\n",
            "Epoch 5/50\n",
            "197/197 [==============================] - 116s 591ms/step - loss: 0.0706 - accuracy: 0.9827 - val_loss: 0.1184 - val_accuracy: 0.9724\n",
            "Epoch 6/50\n",
            "197/197 [==============================] - 116s 591ms/step - loss: 0.0582 - accuracy: 0.9843 - val_loss: 0.0533 - val_accuracy: 0.9869\n",
            "Epoch 7/50\n",
            "197/197 [==============================] - 116s 591ms/step - loss: 0.0528 - accuracy: 0.9853 - val_loss: 0.0393 - val_accuracy: 0.9899\n",
            "Epoch 8/50\n",
            "197/197 [==============================] - 116s 591ms/step - loss: 0.0350 - accuracy: 0.9910 - val_loss: 0.0394 - val_accuracy: 0.9884\n",
            "Epoch 9/50\n",
            "197/197 [==============================] - 116s 591ms/step - loss: 0.0204 - accuracy: 0.9953 - val_loss: 0.0220 - val_accuracy: 0.9926\n",
            "Epoch 10/50\n",
            "197/197 [==============================] - 116s 591ms/step - loss: 0.0290 - accuracy: 0.9930 - val_loss: 0.0373 - val_accuracy: 0.9914\n",
            "Epoch 11/50\n",
            "197/197 [==============================] - 116s 591ms/step - loss: 0.0204 - accuracy: 0.9949 - val_loss: 0.0260 - val_accuracy: 0.9920\n",
            "Epoch 12/50\n",
            "197/197 [==============================] - 116s 591ms/step - loss: 0.0347 - accuracy: 0.9901 - val_loss: 0.0501 - val_accuracy: 0.9899\n",
            "Epoch 13/50\n",
            "197/197 [==============================] - 116s 591ms/step - loss: 0.0317 - accuracy: 0.9929 - val_loss: 0.0381 - val_accuracy: 0.9911\n",
            "Epoch 14/50\n",
            "197/197 [==============================] - ETA: 0s - loss: 0.0308 - accuracy: 0.9917Restoring model weights from the end of the best epoch.\n",
            "197/197 [==============================] - 116s 591ms/step - loss: 0.0308 - accuracy: 0.9917 - val_loss: 0.0270 - val_accuracy: 0.9926\n",
            "Epoch 00014: early stopping\n"
          ],
          "name": "stdout"
        }
      ]
    },
    {
      "cell_type": "code",
      "metadata": {
        "id": "3BmCSVMqlsYe"
      },
      "source": [
        "model.save('/content/drive/My Drive/Dataset_for_train/KYC_Vgg_transfer_learning.h5')"
      ],
      "execution_count": 85,
      "outputs": []
    },
    {
      "cell_type": "code",
      "metadata": {
        "id": "Pn60z6BWl3pI",
        "colab": {
          "base_uri": "https://localhost:8080/",
          "height": 265
        },
        "outputId": "4e707363-ecb0-46b4-a31b-33459622117d"
      },
      "source": [
        "plt.plot(history.history['loss'],label='train')\n",
        "plt.plot(history.history['val_loss'],label='test')\n",
        "plt.legend()\n",
        "plt.show()"
      ],
      "execution_count": 86,
      "outputs": [
        {
          "output_type": "display_data",
          "data": {
            "image/png": "[encoded data removed]",
            "text/plain": [
              "<Figure size 432x288 with 1 Axes>"
            ]
          },
          "metadata": {
            "tags": [],
            "needs_background": "light"
          }
        }
      ]
    },
    {
      "cell_type": "code",
      "metadata": {
        "id": "panMURkYl72n",
        "colab": {
          "base_uri": "https://localhost:8080/",
          "height": 265
        },
        "outputId": "b94ecd48-22a7-4d28-9e61-6c02506eb18e"
      },
      "source": [
        "plt.plot(history.history['accuracy'],label='train')\n",
        "plt.plot(history.history['val_accuracy'],label='test')\n",
        "plt.legend()\n",
        "plt.show()"
      ],
      "execution_count": 87,
      "outputs": [
        {
          "output_type": "display_data",
          "data": {
            "image/png": "[encoded data removed]",
            "text/plain": [
              "<Figure size 432x288 with 1 Axes>"
            ]
          },
          "metadata": {
            "tags": [],
            "needs_background": "light"
          }
        }
      ]
    },
    {
      "cell_type": "code",
      "metadata": {
        "id": "TaUmXyYjl-TM",
        "colab": {
          "base_uri": "https://localhost:8080/"
        },
        "outputId": "82ac1883-2407-43e9-f60d-c3cf0f1fe952"
      },
      "source": [
        "preds=model.predict(X_test, verbose=1)"
      ],
      "execution_count": 88,
      "outputs": [
        {
          "output_type": "stream",
          "text": [
            "2/7 [=======>......................] - ETA: 0sWARNING:tensorflow:Callbacks method `on_predict_batch_end` is slow compared to the batch time (batch time: 0.0034s vs `on_predict_batch_end` time: 0.1078s). Check your callbacks.\n",
            "7/7 [==============================] - 1s 114ms/step\n"
          ],
          "name": "stdout"
        }
      ]
    },
    {
      "cell_type": "code",
      "metadata": {
        "id": "zKzil_uLmA14"
      },
      "source": [
        "loss, acc = model.evaluate(X_test,y_test,verbose=0)"
      ],
      "execution_count": 89,
      "outputs": []
    },
    {
      "cell_type": "code",
      "metadata": {
        "id": "mD8UVUozmDcu",
        "colab": {
          "base_uri": "https://localhost:8080/"
        },
        "outputId": "e05b2fd8-1630-4ea1-a4d9-4347986ca5ac"
      },
      "source": [
        "acc"
      ],
      "execution_count": 90,
      "outputs": [
        {
          "output_type": "execute_result",
          "data": {
            "text/plain": [
              "0.9620853066444397"
            ]
          },
          "metadata": {
            "tags": []
          },
          "execution_count": 90
        }
      ]
    },
    {
      "cell_type": "code",
      "metadata": {
        "id": "_sZD1qJamJqr"
      },
      "source": [
        "result = [list(np.where(i == np.amax(i))[0]+1)[0] for i in preds]"
      ],
      "execution_count": 91,
      "outputs": []
    },
    {
      "cell_type": "code",
      "metadata": {
        "id": "qj1HP2wfmKzH"
      },
      "source": [
        "y_test =[list(np.where(i == np.amax(i))[0]+1)[0] for i in y_test]"
      ],
      "execution_count": 92,
      "outputs": []
    },
    {
      "cell_type": "code",
      "metadata": {
        "id": "cRkgBhh4mNk7",
        "colab": {
          "base_uri": "https://localhost:8080/"
        },
        "outputId": "1c79a8f1-1d21-4fc7-bd97-6bfca779b801"
      },
      "source": [
        "print(\"The accuracy is:\",acc)\n",
        "print(\"The Precison score is:\",precision_score(result,y_test,average='micro'))\n",
        "print(\"The Recall score is:\",recall_score(result,y_test,average='micro'))\n",
        "print(\"F-Measure is:\",(2*precision_score(result,y_test,average='micro')*recall_score(result,y_test,average='micro'))/(recall_score(result,y_test,average='micro')+precision_score(result,y_test,average='micro')))"
      ],
      "execution_count": 93,
      "outputs": [
        {
          "output_type": "stream",
          "text": [
            "The accuracy is: 0.9620853066444397\n",
            "The Precison score is: 0.9620853080568721\n",
            "The Recall score is: 0.9620853080568721\n",
            "F-Measure is: 0.9620853080568721\n"
          ],
          "name": "stdout"
        }
      ]
    },
    {
      "cell_type": "code",
      "metadata": {
        "id": "DUcZ_6lQmQ03",
        "colab": {
          "base_uri": "https://localhost:8080/"
        },
        "outputId": "7073bacb-987a-4255-99e2-5863f96a7e10"
      },
      "source": [
        "from sklearn.metrics import confusion_matrix \n",
        "results = confusion_matrix(result,y_test) \n",
        "print(results) "
      ],
      "execution_count": 94,
      "outputs": [
        {
          "output_type": "stream",
          "text": [
            "[[37  0  0  0  0  0  0  0  0]\n",
            " [ 0 40  0  0  0  0  0  0  0]\n",
            " [ 0  0 38  0  0  0  0  0  0]\n",
            " [ 0  0  0 12  0  0  0  0  0]\n",
            " [ 1  0  0  0 24  0  1  0  0]\n",
            " [ 0  0  0  0  0  0  0  0  0]\n",
            " [ 1  0  2  0  1  2 38  0  0]\n",
            " [ 0  0  0  0  0  0  0  6  0]\n",
            " [ 0  0  0  0  0  0  0  0  8]]\n"
          ],
          "name": "stdout"
        }
      ]
    }
  ]
}