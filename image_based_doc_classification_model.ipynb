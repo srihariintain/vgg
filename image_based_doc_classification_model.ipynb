{
  "nbformat": 4,
  "nbformat_minor": 0,
  "metadata": {
    "colab": {
      "name": "image based doc classification model.ipynb",
      "provenance": [],
      "collapsed_sections": []
    },
    "kernelspec": {
      "display_name": "Python 3",
      "name": "python3"
    },
    "accelerator": "GPU"
  },
  "cells": [
    {
      "cell_type": "code",
      "metadata": {
        "id": "kyYoIVAa24Am"
      },
      "source": [
        "import os\n",
        "import cv2\n",
        "import pandas as pd\n",
        "import numpy as np\n",
        "\n",
        "from keras.layers import Dense,Flatten,MaxPooling2D,Convolution2D,Dropout,GlobalAveragePooling2D\n",
        "from keras.models import Sequential\n",
        "from keras.optimizers import Adam\n",
        "from keras.callbacks import EarlyStopping\n",
        "\n",
        "from numpy import expand_dims\n",
        "from keras.preprocessing.image import ImageDataGenerator\n",
        "\n",
        "\n",
        "\n",
        "import matplotlib.pyplot as plt\n",
        "import seaborn as sns\n",
        "\n",
        "from sklearn.model_selection import train_test_split\n",
        "from sklearn.preprocessing import LabelEncoder\n",
        "from sklearn.metrics import recall_score, precision_score"
      ],
      "execution_count": 32,
      "outputs": []
    },
    {
      "cell_type": "code",
      "metadata": {
        "colab": {
          "base_uri": "https://localhost:8080/"
        },
        "id": "_7QbJ5JW3DRH",
        "outputId": "3689772c-7315-4781-d168-4d5d40bc5fe4"
      },
      "source": [
        "from google.colab import drive\n",
        "drive.mount('/content/drive')"
      ],
      "execution_count": 33,
      "outputs": [
        {
          "output_type": "stream",
          "text": [
            "Drive already mounted at /content/drive; to attempt to forcibly remount, call drive.mount(\"/content/drive\", force_remount=True).\n"
          ],
          "name": "stdout"
        }
      ]
    },
    {
      "cell_type": "code",
      "metadata": {
        "id": "bWe990oaae-m"
      },
      "source": [
        "Class_names = []\n",
        "mypath = '/content/drive/My Drive/Dataset_for_train'\n",
        "for (dirpath, dirnames, filenames) in os.walk(mypath):\n",
        "    Class_names.extend(dirnames)\n",
        "    break"
      ],
      "execution_count": 34,
      "outputs": []
    },
    {
      "cell_type": "code",
      "metadata": {
        "colab": {
          "base_uri": "https://localhost:8080/"
        },
        "id": "aG6gWdBsZq7-",
        "outputId": "43a2b3c4-daf8-4687-93e6-0f4458eb0ce4"
      },
      "source": [
        "Class_names"
      ],
      "execution_count": 35,
      "outputs": [
        {
          "output_type": "execute_result",
          "data": {
            "text/plain": [
              "['Aadhaar_front',\n",
              " 'Aadhaar_back',\n",
              " 'driving_license_front',\n",
              " 'driving_license_back',\n",
              " 'passport_front',\n",
              " 'passport_back',\n",
              " 'Voter_id_back',\n",
              " 'Voter_id_front',\n",
              " 'Pan',\n",
              " 'train',\n",
              " 'val',\n",
              " 'API response',\n",
              " 'Pan1',\n",
              " 'Pan2',\n",
              " 'Pan3']"
            ]
          },
          "metadata": {
            "tags": []
          },
          "execution_count": 35
        }
      ]
    },
    {
      "cell_type": "code",
      "metadata": {
        "id": "DBypEEr-33Ql"
      },
      "source": [
        "from os import walk\n",
        "directory='/content/drive/My Drive/Dataset_for_train'\n",
        "categories=['Voter_id_back','Voter_id_front','Pan1','Pan2','Pan3','Aadhaar_front','driving_license_front','passport_front','Aadhaar_back','passport_back','driving_license_back']\n",
        "X = []\n",
        "Y = []\n",
        "Count=[]\n",
        "for category in categories:\n",
        "  path = os.path.join(directory,category)\n",
        "  count= 0\n",
        "  for img in os.listdir(path):\n",
        "    count+=1\n",
        "  Count.append(count)"
      ],
      "execution_count": 36,
      "outputs": []
    },
    {
      "cell_type": "code",
      "metadata": {
        "id": "abk6jy_X4Bdq"
      },
      "source": [
        "temp=[]\n",
        "for i in (Count):\n",
        "  temp.append(1500//i)"
      ],
      "execution_count": 37,
      "outputs": []
    },
    {
      "cell_type": "code",
      "metadata": {
        "id": "2qntgYDS4Jww"
      },
      "source": [
        "import os\n",
        "from os import walk\n",
        "directory='/content/drive/My Drive/Dataset_for_train'\n",
        "categories=['Voter_id_back','Voter_id_front','Pan1','Pan2','Pan3','Aadhaar_front','driving_license_front','passport_front','Aadhaar_back','passport_back','driving_license_back']\n",
        "\n",
        "X_test = []\n",
        "y_test = []\n",
        "X = []\n",
        "Y = []\n",
        "i = -1\n",
        "j=0\n",
        "df = pd.DataFrame()\n",
        "for category in categories:\n",
        "  path = os.path.join(directory,category)\n",
        "  i+=1\n",
        "  for img in os.listdir(path):\n",
        "    try:\n",
        "      j+=1\n",
        "      image = (cv2.imread(os.path.join(path,img), cv2.IMREAD_GRAYSCALE))\n",
        "      image = cv2.resize(image,(224,224))                     \n",
        "      image = cv2.cvtColor(image, cv2.COLOR_BGR2RGB)\n",
        "      if j%5==0:\n",
        "        X_test.append(image)\n",
        "        y_test.append(category)\n",
        "      else:\n",
        "        X.append(image)\n",
        "        Y.append(category)\n",
        "        sample_image = expand_dims(image, 0)\n",
        "        datagenertor = ImageDataGenerator(brightness_range=[0.1,1.0],height_shift_range=0.5,rotation_range=40,zoom_range=0.2)\n",
        "        iterator = datagenertor.flow(sample_image, batch_size=1)\n",
        "        for k in range(temp[i]):\n",
        "          batch = iterator.next()\n",
        "          image = batch[0].astype('uint8')\n",
        "          X.append(cv2.resize(image,(224,224)))\n",
        "          Y.append(category)  \n",
        "    except:\n",
        "      continue"
      ],
      "execution_count": 38,
      "outputs": []
    },
    {
      "cell_type": "code",
      "metadata": {
        "colab": {
          "base_uri": "https://localhost:8080/",
          "height": 354
        },
        "id": "kGPwH8T-WNgh",
        "outputId": "ced765a8-adfa-4dc3-b999-ceb7b38e6577"
      },
      "source": [
        "sns.countplot(y_test)\n",
        "plt.title(\"Distribution of the classes\")"
      ],
      "execution_count": 39,
      "outputs": [
        {
          "output_type": "stream",
          "text": [
            "/usr/local/lib/python3.6/dist-packages/seaborn/_decorators.py:43: FutureWarning: Pass the following variable as a keyword arg: x. From version 0.12, the only valid positional argument will be `data`, and passing other arguments without an explicit keyword will result in an error or misinterpretation.\n",
            "  FutureWarning\n"
          ],
          "name": "stderr"
        },
        {
          "output_type": "execute_result",
          "data": {
            "text/plain": [
              "Text(0.5, 1.0, 'Distribution of the classes')"
            ]
          },
          "metadata": {
            "tags": []
          },
          "execution_count": 39
        },
        {
          "output_type": "display_data",
          "data": {
            "image/png": "[encoded data removed]",
            "text/plain": [
              "<Figure size 432x288 with 1 Axes>"
            ]
          },
          "metadata": {
            "tags": [],
            "needs_background": "light"
          }
        }
      ]
    },
    {
      "cell_type": "code",
      "metadata": {
        "colab": {
          "base_uri": "https://localhost:8080/"
        },
        "id": "1ojwcnUteWkt",
        "outputId": "fe21debd-4f2d-4aba-c469-1553960d3c93"
      },
      "source": [
        "print(\"Total number of Records\",len(Y))\n",
        "for i in categories:\n",
        "  print(\"Total number of\",i,\" \",Y.count(i))"
      ],
      "execution_count": 40,
      "outputs": [
        {
          "output_type": "stream",
          "text": [
            "Total number of Records 13571\n",
            "Total number of Voter_id_back   1248\n",
            "Total number of Voter_id_front   1224\n",
            "Total number of Pan1   1216\n",
            "Total number of Pan2   1216\n",
            "Total number of Pan3   1208\n",
            "Total number of Aadhaar_front   1280\n",
            "Total number of driving_license_front   1256\n",
            "Total number of passport_front   1200\n",
            "Total number of Aadhaar_back   1248\n",
            "Total number of passport_back   1242\n",
            "Total number of driving_license_back   1233\n"
          ],
          "name": "stdout"
        }
      ]
    },
    {
      "cell_type": "code",
      "metadata": {
        "colab": {
          "base_uri": "https://localhost:8080/",
          "height": 354
        },
        "id": "-vnJzwYveNiA",
        "outputId": "f8920e2f-b797-4110-ca8d-a81c17686d21"
      },
      "source": [
        "sns.countplot(Y)\n",
        "plt.title(\"Distribution of the classes\")"
      ],
      "execution_count": 41,
      "outputs": [
        {
          "output_type": "stream",
          "text": [
            "/usr/local/lib/python3.6/dist-packages/seaborn/_decorators.py:43: FutureWarning: Pass the following variable as a keyword arg: x. From version 0.12, the only valid positional argument will be `data`, and passing other arguments without an explicit keyword will result in an error or misinterpretation.\n",
            "  FutureWarning\n"
          ],
          "name": "stderr"
        },
        {
          "output_type": "execute_result",
          "data": {
            "text/plain": [
              "Text(0.5, 1.0, 'Distribution of the classes')"
            ]
          },
          "metadata": {
            "tags": []
          },
          "execution_count": 41
        },
        {
          "output_type": "display_data",
          "data": {
            "image/png": "[encoded data removed]",
            "text/plain": [
              "<Figure size 432x288 with 1 Axes>"
            ]
          },
          "metadata": {
            "tags": [],
            "needs_background": "light"
          }
        }
      ]
    },
    {
      "cell_type": "code",
      "metadata": {
        "id": "oi14lTfWeRBR"
      },
      "source": [
        "from keras.utils import np_utils\n",
        "import pickle\n",
        "X = np.array(X)\n",
        "le_ = LabelEncoder()\n",
        "Y = (le_.fit_transform(Y))\n",
        "\n",
        "output = open('encoder.pkl', 'wb')\n",
        "pickle.dump(le_, output)\n",
        "output.close()\n",
        "\n",
        "Y= np_utils.to_categorical(Y)"
      ],
      "execution_count": 42,
      "outputs": []
    },
    {
      "cell_type": "code",
      "metadata": {
        "id": "u9am5fmsY9Ls"
      },
      "source": [
        "from keras.utils import np_utils\n",
        "X_test = np.array(X_test)\n",
        "le_ = LabelEncoder()\n",
        "y_test = (le_.fit_transform(y_test))\n",
        "y_test= np_utils.to_categorical(y_test)"
      ],
      "execution_count": 43,
      "outputs": []
    },
    {
      "cell_type": "code",
      "metadata": {
        "id": "wguz_fIqevc4"
      },
      "source": [
        "from keras.applications.vgg16  import VGG16\n",
        "from keras.models import Sequential, load_model, Model\n",
        "\n",
        "img_height,img_width = 224,224          ## default input size\n",
        "num_classes = 11                         ## Total Classes\n",
        "\n",
        "base_model = VGG16(weights='imagenet', include_top=False, input_shape= (img_height,img_width,3))\n",
        "\n",
        "## Final dense layers\n",
        "x = base_model.output           ## getting features\n",
        "x = GlobalAveragePooling2D()(x) ## Average Pooling\n",
        "x = Dropout(0.3)(x)             ## Dropout\n",
        "\n",
        "## Final softmax layer\n",
        "predictions = Dense(num_classes, activation= 'softmax')(x)  \n",
        "model = Model(inputs = base_model.input, outputs = predictions)\n",
        "\n",
        "# compiling the model\n",
        "adam = Adam(lr=1e-5, decay=1e-6)\n",
        "model.compile(adam, 'categorical_crossentropy', metrics=['accuracy'])"
      ],
      "execution_count": 44,
      "outputs": []
    },
    {
      "cell_type": "code",
      "metadata": {
        "colab": {
          "base_uri": "https://localhost:8080/"
        },
        "id": "buvQj2z_le39",
        "outputId": "cfddb002-84b8-415b-e3c3-327e2988f736"
      },
      "source": [
        "model.summary()"
      ],
      "execution_count": 45,
      "outputs": [
        {
          "output_type": "stream",
          "text": [
            "Model: \"functional_3\"\n",
            "_________________________________________________________________\n",
            "Layer (type)                 Output Shape              Param #   \n",
            "=================================================================\n",
            "input_2 (InputLayer)         [(None, 224, 224, 3)]     0         \n",
            "_________________________________________________________________\n",
            "block1_conv1 (Conv2D)        (None, 224, 224, 64)      1792      \n",
            "_________________________________________________________________\n",
            "block1_conv2 (Conv2D)        (None, 224, 224, 64)      36928     \n",
            "_________________________________________________________________\n",
            "block1_pool (MaxPooling2D)   (None, 112, 112, 64)      0         \n",
            "_________________________________________________________________\n",
            "block2_conv1 (Conv2D)        (None, 112, 112, 128)     73856     \n",
            "_________________________________________________________________\n",
            "block2_conv2 (Conv2D)        (None, 112, 112, 128)     147584    \n",
            "_________________________________________________________________\n",
            "block2_pool (MaxPooling2D)   (None, 56, 56, 128)       0         \n",
            "_________________________________________________________________\n",
            "block3_conv1 (Conv2D)        (None, 56, 56, 256)       295168    \n",
            "_________________________________________________________________\n",
            "block3_conv2 (Conv2D)        (None, 56, 56, 256)       590080    \n",
            "_________________________________________________________________\n",
            "block3_conv3 (Conv2D)        (None, 56, 56, 256)       590080    \n",
            "_________________________________________________________________\n",
            "block3_pool (MaxPooling2D)   (None, 28, 28, 256)       0         \n",
            "_________________________________________________________________\n",
            "block4_conv1 (Conv2D)        (None, 28, 28, 512)       1180160   \n",
            "_________________________________________________________________\n",
            "block4_conv2 (Conv2D)        (None, 28, 28, 512)       2359808   \n",
            "_________________________________________________________________\n",
            "block4_conv3 (Conv2D)        (None, 28, 28, 512)       2359808   \n",
            "_________________________________________________________________\n",
            "block4_pool (MaxPooling2D)   (None, 14, 14, 512)       0         \n",
            "_________________________________________________________________\n",
            "block5_conv1 (Conv2D)        (None, 14, 14, 512)       2359808   \n",
            "_________________________________________________________________\n",
            "block5_conv2 (Conv2D)        (None, 14, 14, 512)       2359808   \n",
            "_________________________________________________________________\n",
            "block5_conv3 (Conv2D)        (None, 14, 14, 512)       2359808   \n",
            "_________________________________________________________________\n",
            "block5_pool (MaxPooling2D)   (None, 7, 7, 512)         0         \n",
            "_________________________________________________________________\n",
            "global_average_pooling2d_1 ( (None, 512)               0         \n",
            "_________________________________________________________________\n",
            "dropout_1 (Dropout)          (None, 512)               0         \n",
            "_________________________________________________________________\n",
            "dense_1 (Dense)              (None, 11)                5643      \n",
            "=================================================================\n",
            "Total params: 14,720,331\n",
            "Trainable params: 14,720,331\n",
            "Non-trainable params: 0\n",
            "_________________________________________________________________\n"
          ],
          "name": "stdout"
        }
      ]
    },
    {
      "cell_type": "code",
      "metadata": {
        "id": "4YU5o9Gklij7"
      },
      "source": [
        "X_train, X_val, y_train, y_val = train_test_split(X,Y,stratify=Y,test_size=0.3)"
      ],
      "execution_count": 46,
      "outputs": []
    },
    {
      "cell_type": "code",
      "metadata": {
        "id": "mqSJAHA_ll6T"
      },
      "source": [
        "early_stopping = EarlyStopping(patience=5, verbose=1,restore_best_weights=True)"
      ],
      "execution_count": 47,
      "outputs": []
    },
    {
      "cell_type": "code",
      "metadata": {
        "id": "whxoyTlPlpkD",
        "colab": {
          "base_uri": "https://localhost:8080/"
        },
        "outputId": "ed77833a-e94b-4645-a8f6-c6e9b97fba87"
      },
      "source": [
        "history = model.fit(X_train, y_train,batch_size=40,epochs=50, callbacks=[early_stopping], validation_data=(X_val,y_val))"
      ],
      "execution_count": 48,
      "outputs": [
        {
          "output_type": "stream",
          "text": [
            "Epoch 1/50\n",
            "  2/238 [..............................] - ETA: 1:02 - loss: 6.9580 - accuracy: 0.0375WARNING:tensorflow:Callbacks method `on_train_batch_end` is slow compared to the batch time (batch time: 0.1572s vs `on_train_batch_end` time: 0.3693s). Check your callbacks.\n",
            "238/238 [==============================] - 141s 593ms/step - loss: 1.6700 - accuracy: 0.4705 - val_loss: 0.4671 - val_accuracy: 0.8961\n",
            "Epoch 2/50\n",
            "238/238 [==============================] - 141s 593ms/step - loss: 0.4013 - accuracy: 0.8904 - val_loss: 0.1962 - val_accuracy: 0.9597\n",
            "Epoch 3/50\n",
            "238/238 [==============================] - 141s 593ms/step - loss: 0.1946 - accuracy: 0.9492 - val_loss: 0.1140 - val_accuracy: 0.9703\n",
            "Epoch 4/50\n",
            "238/238 [==============================] - 141s 592ms/step - loss: 0.1076 - accuracy: 0.9708 - val_loss: 0.0829 - val_accuracy: 0.9791\n",
            "Epoch 5/50\n",
            "238/238 [==============================] - 141s 593ms/step - loss: 0.0803 - accuracy: 0.9801 - val_loss: 0.0582 - val_accuracy: 0.9850\n",
            "Epoch 6/50\n",
            "238/238 [==============================] - 141s 593ms/step - loss: 0.0591 - accuracy: 0.9867 - val_loss: 0.0576 - val_accuracy: 0.9889\n",
            "Epoch 7/50\n",
            "238/238 [==============================] - 141s 592ms/step - loss: 0.0448 - accuracy: 0.9895 - val_loss: 0.0397 - val_accuracy: 0.9904\n",
            "Epoch 8/50\n",
            "238/238 [==============================] - 141s 592ms/step - loss: 0.0523 - accuracy: 0.9883 - val_loss: 0.0371 - val_accuracy: 0.9919\n",
            "Epoch 9/50\n",
            "238/238 [==============================] - 141s 592ms/step - loss: 0.0368 - accuracy: 0.9916 - val_loss: 0.0450 - val_accuracy: 0.9899\n",
            "Epoch 10/50\n",
            "238/238 [==============================] - 141s 593ms/step - loss: 0.0379 - accuracy: 0.9920 - val_loss: 0.0303 - val_accuracy: 0.9941\n",
            "Epoch 11/50\n",
            "238/238 [==============================] - 141s 592ms/step - loss: 0.0259 - accuracy: 0.9941 - val_loss: 0.0339 - val_accuracy: 0.9929\n",
            "Epoch 12/50\n",
            "238/238 [==============================] - 141s 592ms/step - loss: 0.0245 - accuracy: 0.9948 - val_loss: 0.0308 - val_accuracy: 0.9921\n",
            "Epoch 13/50\n",
            "238/238 [==============================] - 141s 592ms/step - loss: 0.0249 - accuracy: 0.9943 - val_loss: 0.0444 - val_accuracy: 0.9902\n",
            "Epoch 14/50\n",
            "238/238 [==============================] - 141s 593ms/step - loss: 0.0257 - accuracy: 0.9944 - val_loss: 0.0232 - val_accuracy: 0.9936\n",
            "Epoch 15/50\n",
            "238/238 [==============================] - 141s 592ms/step - loss: 0.0194 - accuracy: 0.9952 - val_loss: 0.0351 - val_accuracy: 0.9919\n",
            "Epoch 16/50\n",
            "238/238 [==============================] - 141s 592ms/step - loss: 0.0275 - accuracy: 0.9947 - val_loss: 0.0392 - val_accuracy: 0.9929\n",
            "Epoch 17/50\n",
            "238/238 [==============================] - 141s 592ms/step - loss: 0.0171 - accuracy: 0.9963 - val_loss: 0.0289 - val_accuracy: 0.9929\n",
            "Epoch 18/50\n",
            "238/238 [==============================] - 141s 592ms/step - loss: 0.0312 - accuracy: 0.9920 - val_loss: 0.0378 - val_accuracy: 0.9919\n",
            "Epoch 19/50\n",
            "238/238 [==============================] - 141s 593ms/step - loss: 0.0135 - accuracy: 0.9972 - val_loss: 0.0189 - val_accuracy: 0.9946\n",
            "Epoch 20/50\n",
            "238/238 [==============================] - 141s 593ms/step - loss: 0.0041 - accuracy: 0.9993 - val_loss: 0.0128 - val_accuracy: 0.9968\n",
            "Epoch 21/50\n",
            "238/238 [==============================] - 141s 593ms/step - loss: 0.0088 - accuracy: 0.9980 - val_loss: 0.0273 - val_accuracy: 0.9936\n",
            "Epoch 22/50\n",
            "238/238 [==============================] - 141s 592ms/step - loss: 0.0078 - accuracy: 0.9980 - val_loss: 0.0356 - val_accuracy: 0.9939\n",
            "Epoch 23/50\n",
            "238/238 [==============================] - 141s 593ms/step - loss: 0.0316 - accuracy: 0.9927 - val_loss: 0.0251 - val_accuracy: 0.9939\n",
            "Epoch 24/50\n",
            "238/238 [==============================] - 141s 593ms/step - loss: 0.0160 - accuracy: 0.9965 - val_loss: 0.0141 - val_accuracy: 0.9966\n",
            "Epoch 25/50\n",
            "238/238 [==============================] - ETA: 0s - loss: 0.0038 - accuracy: 0.9993Restoring model weights from the end of the best epoch.\n",
            "238/238 [==============================] - 141s 593ms/step - loss: 0.0038 - accuracy: 0.9993 - val_loss: 0.0160 - val_accuracy: 0.9953\n",
            "Epoch 00025: early stopping\n"
          ],
          "name": "stdout"
        }
      ]
    },
    {
      "cell_type": "code",
      "metadata": {
        "id": "3BmCSVMqlsYe"
      },
      "source": [
        "model.save('/content/drive/My Drive/Dataset_for_train/KYC_Vgg_transfer_learning.h5')"
      ],
      "execution_count": 49,
      "outputs": []
    },
    {
      "cell_type": "code",
      "metadata": {
        "id": "Pn60z6BWl3pI",
        "colab": {
          "base_uri": "https://localhost:8080/",
          "height": 269
        },
        "outputId": "db8196c1-f9e3-4ccc-92d9-5fe2149a791b"
      },
      "source": [
        "plt.plot(history.history['loss'],label='train')\n",
        "plt.plot(history.history['val_loss'],label='test')\n",
        "plt.legend()\n",
        "plt.show()"
      ],
      "execution_count": 50,
      "outputs": [
        {
          "output_type": "display_data",
          "data": {
            "image/png": "[encoded data removed]",
            "text/plain": [
              "<Figure size 432x288 with 1 Axes>"
            ]
          },
          "metadata": {
            "tags": [],
            "needs_background": "light"
          }
        }
      ]
    },
    {
      "cell_type": "code",
      "metadata": {
        "id": "panMURkYl72n",
        "colab": {
          "base_uri": "https://localhost:8080/",
          "height": 265
        },
        "outputId": "fee8710a-4290-4a9e-98fa-4e2042c88bb3"
      },
      "source": [
        "plt.plot(history.history['accuracy'],label='train')\n",
        "plt.plot(history.history['val_accuracy'],label='test')\n",
        "plt.legend()\n",
        "plt.show()"
      ],
      "execution_count": 51,
      "outputs": [
        {
          "output_type": "display_data",
          "data": {
            "image/png": "[encoded data removed]",
            "text/plain": [
              "<Figure size 432x288 with 1 Axes>"
            ]
          },
          "metadata": {
            "tags": [],
            "needs_background": "light"
          }
        }
      ]
    },
    {
      "cell_type": "code",
      "metadata": {
        "id": "TaUmXyYjl-TM",
        "colab": {
          "base_uri": "https://localhost:8080/"
        },
        "outputId": "950a8918-2fc7-4f2e-bb24-f1a94e50aacf"
      },
      "source": [
        "preds=model.predict(X_test, verbose=1)"
      ],
      "execution_count": 52,
      "outputs": [
        {
          "output_type": "stream",
          "text": [
            "2/6 [=========>....................] - ETA: 0sWARNING:tensorflow:Callbacks method `on_predict_batch_end` is slow compared to the batch time (batch time: 0.0040s vs `on_predict_batch_end` time: 0.1344s). Check your callbacks.\n",
            "6/6 [==============================] - 1s 119ms/step\n"
          ],
          "name": "stdout"
        }
      ]
    },
    {
      "cell_type": "code",
      "metadata": {
        "id": "zKzil_uLmA14"
      },
      "source": [
        "loss, acc = model.evaluate(X_test,y_test,verbose=0)"
      ],
      "execution_count": 53,
      "outputs": []
    },
    {
      "cell_type": "code",
      "metadata": {
        "id": "mD8UVUozmDcu",
        "colab": {
          "base_uri": "https://localhost:8080/"
        },
        "outputId": "f5947a06-8f88-46b5-d286-583379a79d63"
      },
      "source": [
        "acc"
      ],
      "execution_count": 54,
      "outputs": [
        {
          "output_type": "execute_result",
          "data": {
            "text/plain": [
              "0.9613259434700012"
            ]
          },
          "metadata": {
            "tags": []
          },
          "execution_count": 54
        }
      ]
    },
    {
      "cell_type": "code",
      "metadata": {
        "id": "_sZD1qJamJqr"
      },
      "source": [
        "result = [list(np.where(i == np.amax(i))[0]+1)[0] for i in preds]"
      ],
      "execution_count": 55,
      "outputs": []
    },
    {
      "cell_type": "code",
      "metadata": {
        "id": "qj1HP2wfmKzH"
      },
      "source": [
        "y_test =[list(np.where(i == np.amax(i))[0]+1)[0] for i in y_test]"
      ],
      "execution_count": 56,
      "outputs": []
    },
    {
      "cell_type": "code",
      "metadata": {
        "id": "cRkgBhh4mNk7",
        "colab": {
          "base_uri": "https://localhost:8080/"
        },
        "outputId": "ef66a649-1a4a-44f7-853d-b1cf17d74f2b"
      },
      "source": [
        "print(\"The accuracy is:\",acc)\n",
        "print(\"The Precison score is:\",precision_score(result,y_test,average='micro'))\n",
        "print(\"The Recall score is:\",recall_score(result,y_test,average='micro'))\n",
        "print(\"F-Measure is:\",(2*precision_score(result,y_test,average='micro')*recall_score(result,y_test,average='micro'))/(recall_score(result,y_test,average='micro')+precision_score(result,y_test,average='micro')))"
      ],
      "execution_count": 57,
      "outputs": [
        {
          "output_type": "stream",
          "text": [
            "The accuracy is: 0.9613259434700012\n",
            "The Precison score is: 0.9613259668508287\n",
            "The Recall score is: 0.9613259668508287\n",
            "F-Measure is: 0.9613259668508287\n"
          ],
          "name": "stdout"
        }
      ]
    },
    {
      "cell_type": "code",
      "metadata": {
        "id": "DUcZ_6lQmQ03",
        "colab": {
          "base_uri": "https://localhost:8080/"
        },
        "outputId": "f36adcab-5912-4d06-9568-909990eef8e9"
      },
      "source": [
        "from sklearn.metrics import confusion_matrix \n",
        "results = confusion_matrix(result,y_test) \n",
        "print(results) "
      ],
      "execution_count": 58,
      "outputs": [
        {
          "output_type": "stream",
          "text": [
            "[[37  0  0  0  0  0  0  0  0  0  0]\n",
            " [ 1 40  0  0  0  0  0  0  0  0  0]\n",
            " [ 0  0  4  0  0  0  0  0  0  0  0]\n",
            " [ 0  0  0  3  0  0  0  0  0  0  0]\n",
            " [ 0  0  0  0  2  0  0  0  0  0  0]\n",
            " [ 0  0  0  0  0 12  0  0  0  0  0]\n",
            " [ 1  0  0  0  0  0 24  0  1  0  0]\n",
            " [ 0  0  0  0  0  0  0  0  0  0  0]\n",
            " [ 0  0  0  0  0  0  1  1 38  0  0]\n",
            " [ 0  0  0  0  0  0  0  0  0  6  0]\n",
            " [ 0  0  0  1  0  0  0  1  0  0  8]]\n"
          ],
          "name": "stdout"
        }
      ]
    }
  ]
}